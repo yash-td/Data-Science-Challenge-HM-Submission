{
 "cells": [
  {
   "cell_type": "markdown",
   "metadata": {},
   "source": [
    "<h1>Multi-label text classification:- </h1>\n",
    "\n",
    "<h3>Classifying legal cases into the types of article violations </h3>\n",
    "\n",
    "<h5> Name: - Yash Desai\n",
    "<h5> GitHub:- https://github.com/yash-td"
   ]
  },
  {
   "cell_type": "code",
   "execution_count": 131,
   "metadata": {},
   "outputs": [],
   "source": [
    "#importing all the necessary libraries and packages\n",
    "import numpy as np\n",
    "import pandas as pd\n",
    "import matplotlib.pyplot as plt\n",
    "import seaborn as sns\n",
    "from nltk.corpus import stopwords\n",
    "from datasets import load_dataset\n",
    "from nltk.tokenize import word_tokenize\n",
    "from nltk.stem import WordNetLemmatizer\n",
    "from nltk.tokenize import RegexpTokenizer\n",
    "from nltk.stem.porter import *\n",
    "from sklearn.feature_extraction.text import TfidfVectorizer\n",
    "from sklearn.preprocessing import MultiLabelBinarizer\n",
    "from skmultilearn.problem_transform import LabelPowerset\n",
    "from sklearn.metrics import classification_report\n",
    "from sklearn.metrics import confusion_matrix, ConfusionMatrixDisplay\n",
    "from sklearn.metrics import multilabel_confusion_matrix\n",
    "from sklearn.pipeline import Pipeline\n",
    "from sklearn.svm import SVC, LinearSVC\n",
    "from sklearn.naive_bayes import MultinomialNB\n",
    "from sklearn.tree import DecisionTreeClassifier\n",
    "from sklearn.ensemble import RandomForestClassifier\n",
    "from sklearn import model_selection, naive_bayes\n",
    "from sklearn.model_selection import GridSearchCV\n",
    "from sklearn.multiclass import OneVsRestClassifier\n",
    "from sklearn.neighbors import KNeighborsClassifier\n",
    "from sklearn.ensemble import GradientBoostingClassifier\n",
    "\n",
    "import warnings\n"
   ]
  },
  {
   "cell_type": "code",
   "execution_count": 5,
   "metadata": {},
   "outputs": [
    {
     "name": "stderr",
     "output_type": "stream",
     "text": [
      "Reusing dataset lex_glue (/Users/ytkd/.cache/huggingface/datasets/lex_glue/ecthr_a/1.0.0/c3c0bd7433b636dc39ae49a84dc401190c73156617efc415b04e9835a93a7043)\n",
      "100%|██████████| 3/3 [00:00<00:00, 227.87it/s]\n"
     ]
    }
   ],
   "source": [
    "# downloading the dataset\n",
    "dataset = load_dataset(\"lex_glue\",'ecthr_a')"
   ]
  },
  {
   "cell_type": "code",
   "execution_count": 6,
   "metadata": {},
   "outputs": [],
   "source": [
    "# getting the train and the test dataset from the main dataset\n",
    "train = dataset['train']\n",
    "test = dataset['test']"
   ]
  },
  {
   "cell_type": "code",
   "execution_count": 111,
   "metadata": {},
   "outputs": [],
   "source": [
    "# creating helper functions\n",
    "\n",
    "'''\n",
    "--> pre_process: creating a pre-process funciton which will take the data, perform the following operations and return features and labels\n",
    "separately: \n",
    "\n",
    "1) Convert everything to lower case\n",
    "2) Remove Stopwords\n",
    "3) Tokenize the sentences (Also Removing punctuatios and non alpha numeric characters)\n",
    "4) Lemmatize the words\n",
    "5) Stemming the words\n",
    "\n",
    "All these operations are performed using the NLTK package in python.\n",
    "\n",
    "--> create_corpus : This function is used to convert our entire training data (after the pre-processing) into a corpus of words\n",
    "\n",
    "--> convert_2d: This funciton is written to covert the 3-dimensional data into 2 dimensional.\n",
    "After pre-processing we have a list of lists of lists. But labels we have are the violation of articles and are present for\n",
    "every document and not every sentence. Hence the desired format we need to train the model is a list of lists. Where one\n",
    "list is the entrie training data of size 9000 and the second list (list of list) is the documents inside the main list of 9000.\n",
    "'''\n",
    "\n",
    "def pre_process(data):\n",
    "    tokenizer = RegexpTokenizer(r'\\w+')\n",
    "    lemmatizer = WordNetLemmatizer()\n",
    "    stemmer = PorterStemmer()\n",
    "    new_data = []\n",
    "    new_labels = []\n",
    "    for i in range(len(data)):\n",
    "        tokenized = [tokenizer.tokenize(entry.lower()) for entry in data[i]['text'] if entry not in stopwords.words('english') and len(entry)>1]\n",
    "        lemmatized = [[lemmatizer.lemmatize(token) for token in sent] for sent in tokenized]\n",
    "        stemming = [[stemmer.stem(token) for token in sent] for sent in lemmatized]\n",
    "        new_data.append(stemming)\n",
    "        new_labels.append(data[i]['labels'])\n",
    "    print('Lower Case + Tokenization + Stop Words Remowal + Only Alphanumeric (Removing Punctuation) + Lemmatization + Stemming',stemming[0])\n",
    "    return new_data, new_labels\n",
    "\n",
    "def create_corpus(data):\n",
    "    corpus = []\n",
    "    for doc in data:\n",
    "        for sen in doc:\n",
    "            for word in sen:\n",
    "                corpus.append(word)\n",
    "    return corpus   \n",
    "\n",
    "def convert_2d(data):\n",
    "    lst2 = []\n",
    "    for i in data:\n",
    "        lst1 = []\n",
    "        for j in i:\n",
    "            for k in j:\n",
    "                lst1.append(k)\n",
    "        lst2.append(lst1)\n",
    "    return lst2\n",
    "\n",
    "def identity_tokenizer(text):\n",
    "    return text\n",
    "\n"
   ]
  },
  {
   "cell_type": "code",
   "execution_count": 112,
   "metadata": {},
   "outputs": [
    {
     "name": "stdout",
     "output_type": "stream",
     "text": [
      "Lower Case + Tokenization + Stop Words Remowal + Only Alphanumeric (Removing Punctuation) + Lemmatization + Stemming ['4', 'the', 'applic', 'wa', 'born', 'in', '1971', 'and', 'life', 'in', 'péc', 'he', 'had', 'been', 'practis', 'a', 'a', 'lawyer']\n",
      "Lower Case + Tokenization + Stop Words Remowal + Only Alphanumeric (Removing Punctuation) + Lemmatization + Stemming ['5', 'the', 'applic', 'were', 'born', 'in', '1965', '1977', 'and', '1976', 'respect']\n"
     ]
    }
   ],
   "source": [
    "# pre-processing the train and the test data\n",
    "train_X, train_y  = pre_process(train) \n",
    "test_X, test_y = pre_process(test)"
   ]
  },
  {
   "cell_type": "code",
   "execution_count": 113,
   "metadata": {},
   "outputs": [],
   "source": [
    "# creating the corppus using the helper funtion that was created\n",
    "corpus_train  = create_corpus(train_X)\n",
    "corpus_test = create_corpus(test_X)\n",
    "total_corpus = corpus_train+corpus_test"
   ]
  },
  {
   "cell_type": "code",
   "execution_count": 114,
   "metadata": {},
   "outputs": [],
   "source": [
    "'''\n",
    "converting the 3 dimentional dataset obtained after tokenization, to a two dimensional set becasue we have \n",
    "labels (None, 1 or more than 1) for each document and not each sentence.\n",
    "'''\n",
    "train_X_2d = convert_2d(train_X)\n",
    "test_X_2d = convert_2d(test_X)"
   ]
  },
  {
   "cell_type": "code",
   "execution_count": 118,
   "metadata": {},
   "outputs": [],
   "source": [
    "'''\n",
    "Using the tfidf vectorizer from sklearn, converting our train sets and test sets (words) to vectors based on the term\n",
    "frequency inverse document frequency technique. It assigns a value to a term according to its importance in a document\n",
    "scaled by its importance across all documents in our corpus, which mathematically eliminates naturally occurring words\n",
    "in the English language, and selects words that are more descriptive of our text.  \n",
    "'''\n",
    "warnings.filterwarnings(\"ignore\")\n",
    "tfidf = TfidfVectorizer(tokenizer=identity_tokenizer, stop_words='english', lowercase=False)\n",
    "tfidf.fit(total_corpus)\n",
    "vectors_train = tfidf.fit_transform(train_X_2d)\n",
    "vectors_test = tfidf.transform(test_X_2d)"
   ]
  },
  {
   "cell_type": "code",
   "execution_count": 29,
   "metadata": {},
   "outputs": [],
   "source": [
    "# creating a binarizer to convert all the labels into a binary representation suitable for multilabel classifiers \n",
    "binarizer = MultiLabelBinarizer()\n",
    "train_y_enc = binarizer.fit_transform(train_y)\n",
    "test_y_enc = binarizer.transform(test_y)"
   ]
  },
  {
   "cell_type": "markdown",
   "metadata": {},
   "source": [
    "Below is an example of how a Multilabel binarizer works. For the 9th document in the test dataset articles 3 and 4 were violated. The label binarizer will create a binary representation with the size equal to the total number of unique labels which is 10 in our case. This is done in order for the classifers to interpret the multiple labels in a single instance."
   ]
  },
  {
   "cell_type": "code",
   "execution_count": 30,
   "metadata": {},
   "outputs": [
    {
     "name": "stdout",
     "output_type": "stream",
     "text": [
      "Articles violated in the 9th document of the test dataset are  [3, 4]\n",
      "After applying Multi Label Binarizer [0, 0, 0, 1, 1, 0, 0, 0, 0, 0]\n"
     ]
    }
   ],
   "source": [
    "print('Articles violated in the 9th document of the test dataset are ',test_y[8])\n",
    "print('After applying Multi Label Binarizer',list(test_y_enc[8]))"
   ]
  },
  {
   "cell_type": "code",
   "execution_count": 122,
   "metadata": {},
   "outputs": [
    {
     "data": {
      "text/html": [
       "<div>\n",
       "<style scoped>\n",
       "    .dataframe tbody tr th:only-of-type {\n",
       "        vertical-align: middle;\n",
       "    }\n",
       "\n",
       "    .dataframe tbody tr th {\n",
       "        vertical-align: top;\n",
       "    }\n",
       "\n",
       "    .dataframe thead th {\n",
       "        text-align: right;\n",
       "    }\n",
       "</style>\n",
       "<table border=\"1\" class=\"dataframe\">\n",
       "  <thead>\n",
       "    <tr style=\"text-align: right;\">\n",
       "      <th></th>\n",
       "      <th>Classification Model</th>\n",
       "      <th>Accuracy Score</th>\n",
       "    </tr>\n",
       "  </thead>\n",
       "  <tbody>\n",
       "    <tr>\n",
       "      <th>4</th>\n",
       "      <td>LabelPowerset(classifier=LinearSVC(), require_...</td>\n",
       "      <td>56.00%</td>\n",
       "    </tr>\n",
       "    <tr>\n",
       "      <th>0</th>\n",
       "      <td>OneVsRestClassifier(estimator=LinearSVC(), n_j...</td>\n",
       "      <td>50.30%</td>\n",
       "    </tr>\n",
       "    <tr>\n",
       "      <th>3</th>\n",
       "      <td>OneVsRestClassifier(estimator=DecisionTreeClas...</td>\n",
       "      <td>35.60%</td>\n",
       "    </tr>\n",
       "    <tr>\n",
       "      <th>1</th>\n",
       "      <td>(DecisionTreeClassifier(max_features='sqrt', r...</td>\n",
       "      <td>31.80%</td>\n",
       "    </tr>\n",
       "    <tr>\n",
       "      <th>2</th>\n",
       "      <td>OneVsRestClassifier(estimator=MultinomialNB())</td>\n",
       "      <td>25.40%</td>\n",
       "    </tr>\n",
       "  </tbody>\n",
       "</table>\n",
       "</div>"
      ],
      "text/plain": [
       "                                Classification Model Accuracy Score\n",
       "4  LabelPowerset(classifier=LinearSVC(), require_...         56.00%\n",
       "0  OneVsRestClassifier(estimator=LinearSVC(), n_j...         50.30%\n",
       "3  OneVsRestClassifier(estimator=DecisionTreeClas...         35.60%\n",
       "1  (DecisionTreeClassifier(max_features='sqrt', r...         31.80%\n",
       "2     OneVsRestClassifier(estimator=MultinomialNB())         25.40%"
      ]
     },
     "execution_count": 122,
     "metadata": {},
     "output_type": "execute_result"
    }
   ],
   "source": [
    "'''\n",
    "Creating a pipeline for testing 5 text classification models and reporting their accuracies. Further out of these the best model will be chosen and a hyperparameter\n",
    "tuning will be performed using the GridSearchCV\n",
    "'''\n",
    "\n",
    "classification_models = [\n",
    "                         OneVsRestClassifier(LinearSVC(), n_jobs=-1),\n",
    "                         RandomForestClassifier(n_jobs=-1),\n",
    "                         OneVsRestClassifier(naive_bayes.MultinomialNB()),\n",
    "                         OneVsRestClassifier(DecisionTreeClassifier()),\n",
    "                         LabelPowerset(LinearSVC(),\n",
    "                         )\n",
    "                         ]\n",
    "\n",
    "model_scores = []\n",
    "for model in classification_models:\n",
    "  # Pipeline object is created to perform model training and evaluate the performance of each model.\n",
    "  model_pipeline = Pipeline([('model_training', model)])\n",
    "  model_pipeline.fit(vectors_train, train_y_enc)\n",
    "\n",
    "  model_name = model\n",
    "  if model_name=='SVC' and model.kernel=='rbf': \n",
    "    model_name+='RBF kernel'\n",
    "  \n",
    "  model_scores.append((model_name,(f'{100*model_pipeline.score(vectors_test, test_y_enc):.2f}%')))\n",
    "\n",
    "# Create the dataframe for score of each model\n",
    "df_model_scores = pd.DataFrame(model_scores,columns=['Classification Model','Accuracy Score'])\n",
    "df_model_scores.sort_values(by='Accuracy Score',axis=0,ascending=False)"
   ]
  },
  {
   "cell_type": "code",
   "execution_count": 135,
   "metadata": {},
   "outputs": [],
   "source": [
    "df_model_scores.to_csv('./results.csv')"
   ]
  },
  {
   "cell_type": "code",
   "execution_count": 138,
   "metadata": {},
   "outputs": [
    {
     "name": "stdout",
     "output_type": "stream",
     "text": [
      "{'classifier': LinearSVC(C=1), 'classifier__C': 1} 0.643\n"
     ]
    }
   ],
   "source": [
    "# Performing a GridSearch for 3 different classifiers to be used with Label Powerset as the best accuracy was found with label \n",
    "# powerset SVC. \n",
    "parameters = [\n",
    "    {\n",
    "        'classifier': [MultinomialNB()],\n",
    "        'classifier__alpha': [0.7, 1.0],\n",
    "    },\n",
    "    {\n",
    "        'classifier': [RandomForestClassifier()],\n",
    "        'classifier__criterion': ['gini', 'entropy'],\n",
    "        'classifier__n_estimators': [10, 20, 50],\n",
    "    },\n",
    "\n",
    "    {\n",
    "        'classifier': [LinearSVC()],\n",
    "        'classifier__C':[1,10,100,1000],\n",
    "    },\n",
    "\n",
    "    \n",
    "]\n",
    "\n",
    "clf = GridSearchCV(LabelPowerset(), parameters, scoring='accuracy')\n",
    "clf.fit(vectors_train, train_y_enc)\n",
    "\n",
    "print (clf.best_params_, clf.best_score_)"
   ]
  },
  {
   "cell_type": "code",
   "execution_count": 139,
   "metadata": {},
   "outputs": [
    {
     "name": "stdout",
     "output_type": "stream",
     "text": [
      "Accuracy of the Label Powerset model with Linear SVC is 56.00000000000001 %\n",
      "              precision    recall  f1-score   support\n",
      "\n",
      "           0       0.83      0.86      0.84        56\n",
      "           1       0.81      0.80      0.80       189\n",
      "           2       0.80      0.64      0.71       166\n",
      "           3       0.65      0.81      0.72       299\n",
      "           4       0.66      0.41      0.51       123\n",
      "           5       0.50      0.20      0.29         5\n",
      "           6       0.69      0.45      0.55        77\n",
      "           7       0.85      0.59      0.70        37\n",
      "           8       0.50      0.12      0.20        16\n",
      "           9       0.72      0.66      0.69       122\n",
      "\n",
      "   micro avg       0.72      0.68      0.70      1090\n",
      "   macro avg       0.70      0.56      0.60      1090\n",
      "weighted avg       0.73      0.68      0.69      1090\n",
      " samples avg       0.64      0.60      0.61      1090\n",
      "\n"
     ]
    }
   ],
   "source": [
    "classifier = LabelPowerset(LinearSVC(C=1))\n",
    "# classifier = OneVsRestClassifier(GradientBoostingClassifier())\n",
    "from sklearn.metrics import accuracy_score\n",
    "classifier.fit(vectors_train,train_y_enc)\n",
    "predictions = classifier.predict(vectors_test)\n",
    "print('Accuracy of the Label Powerset model with Linear SVC is',accuracy_score(predictions, test_y_enc)*100,'%')\n",
    "class_report = classification_report(test_y_enc, predictions)\n",
    "print(class_report)"
   ]
  },
  {
   "cell_type": "code",
   "execution_count": 140,
   "metadata": {},
   "outputs": [],
   "source": [
    "# creating a multilabel confusion matrix\n",
    "classification_matrix = multilabel_confusion_matrix(test_y_enc, predictions)"
   ]
  },
  {
   "cell_type": "code",
   "execution_count": 141,
   "metadata": {},
   "outputs": [
    {
     "data": {
      "image/png": "[encoded data removed]",
      "text/plain": [
       "<Figure size 432x288 with 2 Axes>"
      ]
     },
     "metadata": {
      "needs_background": "light"
     },
     "output_type": "display_data"
    },
    {
     "data": {
      "image/png": "[encoded data removed]",
      "text/plain": [
       "<Figure size 432x288 with 2 Axes>"
      ]
     },
     "metadata": {
      "needs_background": "light"
     },
     "output_type": "display_data"
    },
    {
     "data": {
      "image/png": "[encoded data removed]",
      "text/plain": [
       "<Figure size 432x288 with 2 Axes>"
      ]
     },
     "metadata": {
      "needs_background": "light"
     },
     "output_type": "display_data"
    },
    {
     "data": {
      "image/png": "[encoded data removed]",
      "text/plain": [
       "<Figure size 432x288 with 2 Axes>"
      ]
     },
     "metadata": {
      "needs_background": "light"
     },
     "output_type": "display_data"
    },
    {
     "data": {
      "image/png": "[encoded data removed]",
      "text/plain": [
       "<Figure size 432x288 with 2 Axes>"
      ]
     },
     "metadata": {
      "needs_background": "light"
     },
     "output_type": "display_data"
    },
    {
     "data": {
      "image/png": "[encoded data removed]",
      "text/plain": [
       "<Figure size 432x288 with 2 Axes>"
      ]
     },
     "metadata": {
      "needs_background": "light"
     },
     "output_type": "display_data"
    },
    {
     "data": {
      "image/png": "[encoded data removed]",
      "text/plain": [
       "<Figure size 432x288 with 2 Axes>"
      ]
     },
     "metadata": {
      "needs_background": "light"
     },
     "output_type": "display_data"
    },
    {
     "data": {
      "image/png": "[encoded data removed]",
      "text/plain": [
       "<Figure size 432x288 with 2 Axes>"
      ]
     },
     "metadata": {
      "needs_background": "light"
     },
     "output_type": "display_data"
    },
    {
     "data": {
      "image/png": "[encoded data removed]",
      "text/plain": [
       "<Figure size 432x288 with 2 Axes>"
      ]
     },
     "metadata": {
      "needs_background": "light"
     },
     "output_type": "display_data"
    },
    {
     "data": {
      "image/png": "[encoded data removed]",
      "text/plain": [
       "<Figure size 432x288 with 2 Axes>"
      ]
     },
     "metadata": {
      "needs_background": "light"
     },
     "output_type": "display_data"
    }
   ],
   "source": [
    "# printing the classification matrix\n",
    "for i in range(len(classification_matrix)):\n",
    "    disp = ConfusionMatrixDisplay(confusion_matrix=classification_matrix[i],display_labels=[i,f'Not {i}'])\n",
    "    disp.plot()\n"
   ]
  }
 ],
 "metadata": {
  "kernelspec": {
   "display_name": "Python 3.10.5 64-bit",
   "language": "python",
   "name": "python3"
  },
  "language_info": {
   "codemirror_mode": {
    "name": "ipython",
    "version": 3
   },
   "file_extension": ".py",
   "mimetype": "text/x-python",
   "name": "python",
   "nbconvert_exporter": "python",
   "pygments_lexer": "ipython3",
   "version": "3.10.5"
  },
  "orig_nbformat": 4,
  "vscode": {
   "interpreter": {
    "hash": "aee8b7b246df8f9039afb4144a1f6fd8d2ca17a180786b69acc140d282b71a49"
   }
  }
 },
 "nbformat": 4,
 "nbformat_minor": 2
}
