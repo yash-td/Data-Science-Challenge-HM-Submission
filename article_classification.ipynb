{
 "cells": [
  {
   "cell_type": "code",
   "execution_count": 41,
   "metadata": {},
   "outputs": [],
   "source": [
    "import numpy as np\n",
    "import pandas as pd\n",
    "from nltk.corpus import stopwords\n",
    "from datasets import load_dataset\n",
    "from nltk.tokenize import word_tokenize\n",
    "from nltk.stem import WordNetLemmatizer\n",
    "from nltk.tokenize import RegexpTokenizer\n",
    "from nltk.stem.porter import *\n",
    "from sklearn.feature_extraction.text import TfidfVectorizer\n",
    "from sklearn.preprocessing import MultiLabelBinarizer\n",
    "from skmultilearn.problem_transform import LabelPowerset\n",
    "from sklearn.metrics import classification_report\n",
    "from sklearn.pipeline import Pipeline\n",
    "from sklearn.svm import SVC, LinearSVC\n",
    "from sklearn.naive_bayes import MultinomialNB\n",
    "from sklearn.tree import DecisionTreeClassifier\n",
    "from sklearn.ensemble import RandomForestClassifier\n",
    "from sklearn import model_selection, naive_bayes\n",
    "from sklearn.multiclass import OneVsRestClassifier\n",
    "from sklearn.neighbors import KNeighborsClassifier\n"
   ]
  },
  {
   "cell_type": "code",
   "execution_count": 5,
   "metadata": {},
   "outputs": [
    {
     "name": "stderr",
     "output_type": "stream",
     "text": [
      "Reusing dataset lex_glue (/Users/ytkd/.cache/huggingface/datasets/lex_glue/ecthr_a/1.0.0/c3c0bd7433b636dc39ae49a84dc401190c73156617efc415b04e9835a93a7043)\n",
      "100%|██████████| 3/3 [00:00<00:00, 227.87it/s]\n"
     ]
    }
   ],
   "source": [
    "dataset = load_dataset(\"lex_glue\",'ecthr_a')"
   ]
  },
  {
   "cell_type": "code",
   "execution_count": 6,
   "metadata": {},
   "outputs": [],
   "source": [
    "train = dataset['train']\n",
    "test = dataset['test']"
   ]
  },
  {
   "cell_type": "markdown",
   "metadata": {},
   "source": [
    "\n",
    "[1] creating a pre-process funciton which will take the data, perform the following operations and return features and labels\n",
    "separately: \n",
    "\n",
    "1) Convert everything to lower case\n",
    "2) Remove Stopwords\n",
    "3) Tokenize the sentences (Also Removing punctuatios and non alpha numeric characters)\n",
    "4) Lemmatize the words\n",
    "5) Stemming the words\n",
    "\n",
    "All these operations are performed using the NLTK package in python.\n"
   ]
  },
  {
   "cell_type": "markdown",
   "metadata": {},
   "source": [
    "[2] create_corpus : This function is used to convert our entire training data (after the pre-processing) into a corpus of words"
   ]
  },
  {
   "cell_type": "markdown",
   "metadata": {},
   "source": [
    "[3] convert_2d: This funciton is written to covert the 3-dimensional data into 2 dimensional.\n",
    "After pre-processing we have a list of lists of lists. But labels we have are the violation of articles and are present for\n",
    "every document and not every sentence. Hence the desired format we need to train the model is a list of lists. Where one\n",
    "list is the entrie training data of size 9000 and the second list (list of list) is the documents inside the main list of 9000."
   ]
  },
  {
   "cell_type": "code",
   "execution_count": 23,
   "metadata": {},
   "outputs": [],
   "source": [
    "def pre_process(data):\n",
    "    tokenizer = RegexpTokenizer(r'\\w+')\n",
    "    lemmatizer = WordNetLemmatizer()\n",
    "    stemmer = PorterStemmer()\n",
    "    new_data = []\n",
    "    new_labels = []\n",
    "    for i in range(len(data)):\n",
    "        tokenized = [tokenizer.tokenize(entry.lower()) for entry in data[i]['text'] if entry not in stopwords.words('english')]\n",
    "        lemmatized = [[lemmatizer.lemmatize(token) for token in sent] for sent in tokenized]\n",
    "        stemming = [[stemmer.stem(token) for token in sent] for sent in lemmatized]\n",
    "        new_data.append(lemmatized)\n",
    "        new_labels.append(data[i]['labels'])\n",
    "    print('Lower Case + Tokenization + Stop Words Remowal + Only Alphanumeric (Removing Punctuation) + Lemmatization',lemmatized)\n",
    "    return new_data, new_labels\n",
    "\n",
    "def create_corpus(data):\n",
    "    corpus = []\n",
    "    for doc in data:\n",
    "        for sen in doc:\n",
    "            for word in sen:\n",
    "                corpus.append(word)\n",
    "    return corpus   \n",
    "\n",
    "def convert_2d(data):\n",
    "    lst2 = []\n",
    "    for i in data:\n",
    "        lst1 = []\n",
    "        for j in i:\n",
    "            for k in j:\n",
    "                lst1.append(k)\n",
    "        lst2.append(lst1)\n",
    "    return lst2\n",
    "\n",
    "def identity_tokenizer(text):\n",
    "    return text\n",
    "\n"
   ]
  },
  {
   "cell_type": "code",
   "execution_count": 24,
   "metadata": {},
   "outputs": [
    {
     "name": "stdout",
     "output_type": "stream",
     "text": [
      "Lower Case + Tokenization + Stop Words Remowal + Only Alphanumeric (Removing Punctuation) + Lemmatization [['4', 'the', 'applicant', 'wa', 'born', 'in', '1971', 'and', 'life', 'in', 'pécs', 'he', 'had', 'been', 'practising', 'a', 'a', 'lawyer'], ['5', 'on', '22', 'january', '2006', 'mr', 'k', 'i', 'lodged', 'a', 'criminal', 'complaint', 'against', 'the', 'applicant', 'on', 'charge', 'of', 'abuse', 'of', 'a', 'minor'], ['6', 'a', 'it', 'appears', 'from', 'the', 'case', 'file', 'the', 'criminal', 'investigation', 'wa', 'launched', 'against', 'the', 'applicant', 'around', '7', 'august', '2006'], ['7', 'the', 'public', 'prosecutor', 'preferred', 'a', 'bill', 'of', 'indictment', 'on', '5', 'march', '2007'], ['8', 'a', 'a', 'consequence', 'of', 'the', 'criminal', 'proceeding', 'on', '3', 'july', '2007', 'the', 'komárom', 'esztergom', 'county', 'bar', 'association', 'suspended', 'the', 'applicant', 's', 'licence', 'to', 'practise', 'a', 'lawyer'], ['9', 'on', '25', 'september', '2008', 'the', 'pécs', 'district', 'court', 'convicted', 'the', 'applicant', 'of', 'abuse', 'of', 'a', 'minor', 'and', 'sentenced', 'him', 'to', 'one', 'year', 'imprisonment', 'with', 'enforcement', 'suspended', 'for', 'two', 'year', 'the', 'applicant', 'appealed', 'against', 'the', 'judgment'], ['10', 'on', '10', 'february', '2010', 'the', 'baranya', 'county', 'regional', 'court', 'quashed', 'the', 'judgment', 'and', 'ordered', 'the', 'first', 'instance', 'court', 'to', 'try', 'the', 'case', 'again'], ['11', 'in', 'the', 'ensuing', 'proceeding', 'on', '2', 'july', '2010', 'the', 'pécs', 'district', 'court', 'acquitted', 'the', 'applicant', 'due', 'to', 'absence', 'of', 'proof', 'the', 'applicant', 'appealed', 'against', 'the', 'judgment', 'for', 'acquittal', 'due', 'to', 'lack', 'of', 'an', 'offence'], ['12', 'finally', 'in', 'early', 'december', '2010', 'the', 'applicant', 'withdrew', 'his', 'appeal', 'arguing', 'that', 'he', 'could', 'have', 'received', 'several', 'mandate', 'from', 'client', 'if', 'he', 'had', 'had', 'his', 'licence', 'to', 'practise', 'a', 'lawyer', 'the', 'applicant', 'decided', 'to', 'terminate', 'the', 'criminal', 'proceeding', 'a', 'early', 'a', 'possible', 'in', 'order', 'to', 'resume', 'his', 'practice']]\n",
      "Lower Case + Tokenization + Stop Words Remowal + Only Alphanumeric (Removing Punctuation) + Lemmatization [['5', 'the', 'applicant', 'were', 'born', 'in', '1965', '1977', 'and', '1976', 'respectively'], ['6', 'the', 'first', 'two', 'applicant', 'are', 'currently', 'serving', 'sentence', 'in', 'penal', 'institution', 'in', 'the', 'krasnoyarsk', 'region', 'namely', 'up', '288', 't', 'prison', 'in', 'minusinsk', 'and', 'oik', '36', 'correctional', 'colony', 'the', 'third', 'applicant', 'life', 'in', 'shilka', 'in', 'the', 'zabaykalskiy', 'region'], ['7', 'by', 'a', 'first', 'instance', 'judgment', 'of', '21', 'may', '2002', 'the', 'supreme', 'court', 'of', 'the', 'republic', 'of', 'buryatiya', 'convicted', 'the', 'first', 'applicant', 'of', 'several', 'offence', 'including', 'robbery', 'theft', 'forgery', 'destruction', 'of', 'property', 'banditry', 'possession', 'and', 'transportation', 'of', 'firearm', 'and', 'murder', 'sentencing', 'him', 'to', 'life', 'imprisonment'], ['8', 'the', 'judgment', 'wa', 'upheld', 'on', 'appeal', 'by', 'the', 'supreme', 'court', 'of', 'russia', 'on', '19', 'june', '2003', 'the', 'first', 'applicant', 'did', 'not', 'allege', 'in', 'his', 'appeal', 'argument', 'that', 'the', 'composition', 'of', 'the', 'first', 'instance', 'court', 'had', 'been', 'unlawful'], ['9', 'on', '22', 'september', '2004', 'the', 'eniseyskiy', 'district', 'court', 'of', 'the', 'krasnoyarsk', 'region', 'brought', 'the', 'first', 'applicant', 's', 'conviction', 'in', 'line', 'with', 'newly', 'introduced', 'amendment', 'to', 'the', 'russian', 'criminal', 'code', 'having', 'made', 'minor', 'correction', 'to', 'the', 'legal', 'characterisation', 'of', 'his', 'act', 'his', 'sentence', 'wa', 'left', 'essentially', 'unchanged'], ['10', 'that', 'decision', 'wa', 'upheld', 'following', 'a', 'supervisory', 'review', 'by', 'the', 'krasnoyarsk', 'regional', 'court', 'on', '30', 'may', '2006'], ['11', 'in', '2007', 'the', 'first', 'applicant', 'made', 'some', 'enquiry', 'to', 'check', 'the', 'lawfulness', 'of', 'the', 'composition', 'of', 'the', 'first', 'instance', 'court', 'in', 'his', 'case', 'eventually', 'he', 'found', 'out', 'that', 'two', 'lay', 'assessor', 'who', 'had', 'sat', 'in', 'his', 'case', 'at', 'the', 'first', 'level', 'of', 'jurisdiction', 'had', 'not', 'had', 'authority', 'to', 'take', 'part', 'in', 'the', 'proceeding', 'thereafter', 'in', 'an', 'attempt', 'to', 'contest', 'the', 'lawfulness', 'of', 'his', 'conviction', 'on', 'the', 'above', 'mentioned', 'ground', 'he', 'requested', 'that', 'the', 'prosecutor', 's', 'office', 'of', 'the', 'republic', 'of', 'buryatiya', 'institute', 'supervisory', 'review', 'proceeding', 'with', 'a', 'view', 'to', 'setting', 'aside', 'the', 'judgment', 'of', '21', 'may', '2002', 'his', 'request', 'were', 'unsuccessful'], ['12', 'by', 'a', 'judgment', 'of', '5', 'december', '2003', 'the', 'leninskiy', 'district', 'court', 'of', 'krasnoyarsk', 'convicted', 'the', 'second', 'applicant', 'of', 'murder', 'and', 'destruction', 'of', 'property', 'and', 'sentenced', 'him', 'to', 'fifteen', 'year', 'imprisonment', 'to', 'be', 'served', 'in', 'a', 'correctional', 'colony', 'with', 'a', 'strict', 'regime'], ['13', 'on', '5', 'february', '2004', 'the', 'krasnoyarsk', 'regional', 'court', 'upheld', 'the', 'second', 'applicant', 's', 'conviction', 'on', 'appeal'], ['14', 'on', '6', 'april', '2007', 'the', 'sovetskiy', 'district', 'court', 'of', 'krasnoyarsk', 'changed', 'the', 'regime', 'of', 'the', 'second', 'applicant', 's', 'imprisonment', 'and', 'ordered', 'that', 'three', 'year', 'of', 'his', 'sentence', 'be', 'served', 'in', 'prison'], ['15', 'the', 'detail', 'of', 'the', 'third', 'applicant', 's', 'criminal', 'history', 'are', 'unknown'], ['16', 'the', 'first', 'applicant', 'wa', 'placed', 'in', 'up', '288', 't', 'prison', 'in', 'minusinsk', 'where', 'it', 'appears', 'he', 'remains', 'to', 'date'], ['17', 'the', 'case', 'file', 'show', 'that', 'his', 'cell', 'is', 'under', 'constant', 'surveillance', 'by', 'prison', 'guard', 'by', 'a', 'closed', 'circuit', 'television', 'camera', 'hereinafter', 'cctv', 'camera', 'installed', 'inside', 'the', 'first', 'applicant', 'submitted', 'a', 'copy', 'of', 'a', 'judgment', 'in', 'the', 'case', 'of', 'another', 'inmate', 'which', 'stated', 'that', 'the', 'prison', 'guard', 'who', 'monitored', 'the', 'cell', 'in', 'that', 'prison', 'wa', 'a', 'woman'], ['18', 'he', 'also', 'submitted', 'screenshots', 'of', 'the', 'cctv', 'camera', 'installed', 'in', 'each', 'of', 'the', 'two', 'cell', 'in', 'which', 'he', 'had', 'been', 'kept', 'the', 'screenshots', 'show', 'that', 'in', 'both', 'cell', 'there', 'wa', 'a', 'cctv', 'camera', 'installed', 'above', 'the', 'door', 'at', 'ceiling', 'level', 'in', 'such', 'a', 'manner', 'that', 'the', 'entire', 'cell', 'wa', 'clearly', 'visible', 'including', 'the', 'bed', 'the', 'toilet', 'wa', 'located', 'directly', 'below', 'the', 'cctv', 'camera', 'and', 'wa', 'almost', 'entirely', 'hidden', 'from', 'the', 'camera', 's', 'view', 'by', 'a', 'shield'], ['19', 'between', '22', 'may', '2007', 'and', '24', 'may', '2010', 'the', 'second', 'applicant', 'also', 'served', 'a', 'sentence', 'in', 'up', '288', 't', 'prison', 'according', 'to', 'him', 'during', 'his', 'detention', 'in', 'that', 'facility', 'he', 'wa', 'unable', 'to', 'take', 'walk', 'and', 'undertake', 'outdoor', 'exercise', 'in', 'wintertime', 'because', 'he', 'wa', 'not', 'provided', 'with', 'winter', 'boot', 'of', 'a', 'suitable', 'size', 'despite', 'numerous', 'request', 'to', 'that', 'effect'], ['20', 'on', 'an', 'unspecified', 'date', 'the', 'second', 'applicant', 'wa', 'transferred', 'to', 'ik', '5', 'strict', 'regime', 'correctional', 'colony', 'in', 'krasnoyarsk', 'according', 'to', 'him', 'his', 'cell', 'wa', 'under', 'constant', 'surveillance', 'by', 'prison', 'guard', 'by', 'a', 'cctv', 'camera', 'installed', 'inside', 'the', 'cell', 'the', 'applicant', 'submitted', 'that', 'the', 'prison', 'guard', 'who', 'monitored', 'his', 'cell', 'wa', 'a', 'woman', 'a', 'at', 'time', 'he', 'could', 'hear', 'her', 'giving', 'him', 'order', 'via', 'loudspeaker'], ['21', 'whilst', 'serving', 'a', 'prison', 'sentence', 'in', 'ik', '2', 'special', 'regime', 'correctional', 'colony', 'in', 'the', 'zabaykalskiy', 'region', 'on', '22', 'june', '2013', 'the', 'third', 'applicant', 'wa', 'transferred', 'to', 'iz', '1', 'pre', 'trial', 'detention', 'centre', 'in', 'the', 'same', 'region', 'with', 'a', 'view', 'to', 'ensuring', 'his', 'participation', 'in', 'court', 'proceeding', 'unrelated', 'to', 'this', 'case', 'the', 'third', 'applicant', 'wa', 'placed', 'in', 'cell', 'no', '465', 'where', 'he', 'remained', 'until', '22', 'february', '2014'], ['22', 'according', 'to', 'him', 'the', 'cell', 'wa', 'designed', 'for', 'two', 'inmate', 'but', 'most', 'of', 'the', 'time', 'he', 'wa', 'there', 'alone', 'the', 'cell', 'wa', 'under', 'permanent', 'surveillance', 'by', 'a', 'cctv', 'camera', 'operated', 'by', 'female', 'guard', 'a', 'screenshot', 'of', 'the', 'cctv', 'camera', 'submitted', 'by', 'the', 'third', 'applicant', 'show', 'that', 'it', 'wa', 'installed', 'above', 'the', 'entrance', 'door', 'at', 'ceiling', 'level', 'in', 'such', 'a', 'manner', 'that', 'the', 'entire', 'cell', 'wa', 'clearly', 'visible', 'including', 'at', 'least', 'in', 'part', 'the', 'bed', 'the', 'screenshot', 'also', 'show', 'that', 'the', 'toilet', 'wa', 'separated', 'by', 'a', 'partition', 'at', 'each', 'side', 'but', 'had', 'no', 'cover', 'with', 'the', 'result', 'that', 'the', 'upper', 'part', 'of', 'the', 'cubicle', 'wa', 'visible'], ['23', 'on', 'an', 'unspecified', 'date', 'the', 'third', 'applicant', 'lodged', 'a', 'complaint', 'against', 'the', 'action', 'of', 'the', 'administration', 'of', 'pre', 'trial', 'detention', 'centre', 'iz', '1', 'the', 'detention', 'centre', 'authority', 'with', 'the', 'ingodinskiy', 'district', 'court', 'of', 'chita', 'the', 'district', 'court', 'he', 'argued', 'that', 'permanent', 'video', 'surveillance', 'of', 'his', 'cell', 'by', 'female', 'operator', 'wa', 'humiliating', 'a', 'in', 'particular', 'he', 'had', 'to', 'undress', 'in', 'plain', 'view', 'of', 'them', 'which', 'breached', 'his', 'right', 'he', 'asked', 'the', 'court', 'to', 'oblige', 'the', 'detention', 'centre', 'authority', 'to', 'bring', 'the', 'violation', 'to', 'an', 'end'], ['24', 'at', 'a', 'hearing', 'a', 'representative', 'of', 'the', 'detention', 'centre', 'authority', 'conceded', 'that', 'the', 'duty', 'officer', 'who', 'performed', 'video', 'surveillance', 'were', 'woman', 'but', 'argued', 'that', 'they', 'were', 'merely', 'performing', 'their', 'professional', 'duty', 'the', 'representative', 'also', 'pointed', 'out', 'that', 'all', 'the', 'other', 'cell', 'in', 'the', 'pre', 'trial', 'detention', 'centre', 'were', 'equipped', 'with', 'cctv', 'camera', 'which', 'had', 'been', 'installed', 'for', 'security', 'purpose', 'the', 'representative', 'further', 'argued', 'that', 'the', 'applicant', 's', 'sleeping', 'place', 'and', 'cell', 'toilet', 'were', 'outside', 'the', 'cctv', 'camera', 's', 'field', 'of', 'view'], ['25', 'in', 'a', 'judgment', 'of', '5', 'july', '2013', 'the', 'district', 'court', 'dismissed', 'the', 'third', 'applicant', 's', 'complaint'], ['26', 'it', 'found', 'it', 'established', 'that', 'the', 'third', 'applicant', 's', 'cell', 'and', 'all', 'the', 'other', 'cell', 'in', 'pre', 'trial', 'detention', 'centre', 'iz', '1', 'were', 'equipped', 'with', 'cctv', 'camera', 'located', 'under', 'the', 'ceiling', 'for', 'the', 'purpose', 'of', 'surveillance', 'of', 'detainee', 'it', 'further', 'accepted', 'the', 'argument', 'of', 'the', 'detention', 'centre', 'authority', 'that', 'the', 'toilet', 'and', 'sleeping', 'place', 'were', 'outside', 'the', 'camera', 's', 'field', 'of', 'view'], ['27', 'the', 'court', 'further', 'observed', 'that', 'article', '83', 'of', 'the', 'russian', 'code', 'of', 'execution', 'of', 'criminal', 'sentence', 'see', 'paragraph', '33', 'below', 'and', 'section', '34', '1', 'of', 'the', 'pre', 'trial', 'detention', 'act', 'see', 'paragraph', '34', 'below', 'enabled', 'the', 'use', 'of', 'audio', 'and', 'video', 'equipment', 'for', 'surveillance', 'and', 'control', 'with', 'a', 'view', 'to', 'preventing', 'escape', 'and', 'other', 'crime', 'or', 'breach', 'of', 'internal', 'order', 'moreover', 'those', 'legal', 'instrument', 'a', 'well', 'a', 'the', 'relevant', 'regulation', 'of', 'the', 'russian', 'ministry', 'of', 'justice', 'including', 'executive', 'order', 'no', '204', 'dsp', 'of', '3', 'november', '2005', 'a', 'amended', 'on', '25', 'may', '2011', 'see', 'paragraph', '35', '38', 'below', 'provided', 'that', 'only', 'body', 'search', 'and', 'supervision', 'of', 'detainee', 'during', 'hygienic', 'procedure', 'should', 'be', 'performed', 'by', 'officer', 'of', 'the', 'same', 'sex', 'whereas', 'surveillance', 'of', 'cell', 'by', 'cctv', 'camera', 'by', 'officer', 'of', 'the', 'opposite', 'sex', 'wa', 'not', 'prohibited', 'by', 'the', 'above', 'mentioned', 'legal', 'instrument', 'officer', 'of', 'pre', 'trial', 'detention', 'centre', 'iz', '1', 'were', 'civil', 'servant', 'who', 'performed', 'the', 'professional', 'duty', 'within', 'their', 'competence', 'a', 'established', 'in', 'particular', 'by', 'section', '21', 'of', 'executive', 'order', 'no', '204', 'dsp', 'of', '3', 'november', '2005', 'see', 'paragraph', '36', 'below', 'in', 'that', 'connection', 'the', 'court', 'noted', 'that', 'no', 'evidence', 'had', 'been', 'submitted', 'to', 'it', 'to', 'show', 'that', 'the', 'officer', 'of', 'pre', 'trial', 'detention', 'centre', 'iz', '1', 'had', 'breached', 'or', 'acted', 'outside', 'the', 'scope', 'of', 'their', 'professional', 'duty'], ['28', 'the', 'district', 'court', 'also', 'pointed', 'out', 'that', 'decision', 'no', '1393', 'o', 'o', 'of', 'the', 'constitutional', 'court', 'of', 'russia', 'dated', '19', 'october', '2010', 'see', 'paragraph', '42', '43', 'below', 'stated', 'that', 'use', 'by', 'the', 'authority', 'of', 'various', 'pre', 'trial', 'detention', 'centre', 'and', 'penal', 'institution', 'of', 'technical', 'mean', 'of', 'surveillance', 'and', 'control', 'wa', 'part', 'of', 'the', 'mechanism', 'that', 'ensured', 'detainee', 'personal', 'safety', 'and', 'respect', 'for', 'their', 'right', 'a', 'well', 'a', 'performance', 'by', 'them', 'of', 'their', 'obligation', 'in', 'the', 'district', 'court', 's', 'view', 'such', 'use', 'thus', 'pursued', 'constitutional', 'aim', 'and', 'could', 'not', 'be', 'regarded', 'a', 'a', 'disproportionate', 'restriction', 'of', 'the', 'third', 'applicant', 's', 'right'], ['29', 'the', 'district', 'court', 'concluded', 'that', 'under', 'the', 'applicable', 'law', 'a', 'interpreted', 'by', 'the', 'constitutional', 'court', 'of', 'russia', 'it', 'wa', 'permissible', 'for', 'officer', 'of', 'the', 'opposite', 'sex', 'to', 'perform', 'cctv', 'camera', 'monitoring', 'of', 'detainee', 'thus', 'the', 'situation', 'had', 'not', 'debased', 'the', 'third', 'applicant', 's', 'dignity', 'a', 'the', 'female', 'officer', 'had', 'acted', 'within', 'their', 'competence', 'and', 'in', 'the', 'performance', 'of', 'their', 'professional', 'duty'], ['30', 'on', '11', 'september', '2013', 'the', 'zabaykalskiy', 'regional', 'court', 'upheld', 'the', 'first', 'instance', 'judgment', 'on', 'appeal', 'endorsing', 'it', 'reasoning']]\n"
     ]
    }
   ],
   "source": [
    "train_X, train_y  = pre_process(train) \n",
    "test_X, test_y = pre_process(test)"
   ]
  },
  {
   "cell_type": "code",
   "execution_count": 25,
   "metadata": {},
   "outputs": [],
   "source": [
    "corpus_train  = create_corpus(train_X)\n",
    "corpus_test = create_corpus(test_X)"
   ]
  },
  {
   "cell_type": "code",
   "execution_count": 26,
   "metadata": {},
   "outputs": [],
   "source": [
    "train_X_2d = convert_2d(train_X)\n",
    "test_X_2d = convert_2d(test_X)"
   ]
  },
  {
   "cell_type": "code",
   "execution_count": 27,
   "metadata": {},
   "outputs": [
    {
     "name": "stderr",
     "output_type": "stream",
     "text": [
      "/Library/Frameworks/Python.framework/Versions/3.10/lib/python3.10/site-packages/sklearn/feature_extraction/text.py:524: UserWarning: The parameter 'token_pattern' will not be used since 'tokenizer' is not None'\n",
      "  warnings.warn(\n",
      "/Library/Frameworks/Python.framework/Versions/3.10/lib/python3.10/site-packages/sklearn/feature_extraction/text.py:404: UserWarning: Your stop_words may be inconsistent with your preprocessing. Tokenizing the stop words generated tokens ['b', 'c', 'd', 'e', 'f', 'g', 'h', 'k', 'l', 'm', 'n', 'o', 'p', 'r', 's', 't', 'u', 'v', 'w', 'x', 'y'] not in stop_words.\n",
      "  warnings.warn(\n"
     ]
    }
   ],
   "source": [
    "tfidf = TfidfVectorizer(tokenizer=identity_tokenizer, stop_words='english', lowercase=False)\n",
    "tfidf.fit(corpus_train+corpus_test)\n",
    "vectors_train = tfidf.fit_transform(train_X_2d)\n",
    "vectors_test = tfidf.transform(test_X_2d)"
   ]
  },
  {
   "cell_type": "code",
   "execution_count": 29,
   "metadata": {},
   "outputs": [],
   "source": [
    "binarizer = MultiLabelBinarizer()\n",
    "train_y_enc = binarizer.fit_transform(train_y)\n",
    "test_y_enc = binarizer.transform(test_y)"
   ]
  },
  {
   "cell_type": "markdown",
   "metadata": {},
   "source": [
    "Below is an example of how a Multilabel binarizer works. For the 9th document in the test dataset articles 3 and 4 were violated. The label binarizer will create a binary representation with the size equal to the total number of unique labels which is 10 in our case. This is done in order for the classifers to interpret the multiple labels in a single instance."
   ]
  },
  {
   "cell_type": "code",
   "execution_count": 30,
   "metadata": {},
   "outputs": [
    {
     "name": "stdout",
     "output_type": "stream",
     "text": [
      "Articles violated in the 9th document of the test dataset are  [3, 4]\n",
      "After applying Multi Label Binarizer [0, 0, 0, 1, 1, 0, 0, 0, 0, 0]\n"
     ]
    }
   ],
   "source": [
    "print('Articles violated in the 9th document of the test dataset are ',test_y[8])\n",
    "print('After applying Multi Label Binarizer',list(test_y_enc[8]))"
   ]
  },
  {
   "cell_type": "code",
   "execution_count": 55,
   "metadata": {},
   "outputs": [
    {
     "data": {
      "text/html": [
       "<div>\n",
       "<style scoped>\n",
       "    .dataframe tbody tr th:only-of-type {\n",
       "        vertical-align: middle;\n",
       "    }\n",
       "\n",
       "    .dataframe tbody tr th {\n",
       "        vertical-align: top;\n",
       "    }\n",
       "\n",
       "    .dataframe thead th {\n",
       "        text-align: right;\n",
       "    }\n",
       "</style>\n",
       "<table border=\"1\" class=\"dataframe\">\n",
       "  <thead>\n",
       "    <tr style=\"text-align: right;\">\n",
       "      <th></th>\n",
       "      <th>Classification Model</th>\n",
       "      <th>Accuracy Score</th>\n",
       "    </tr>\n",
       "  </thead>\n",
       "  <tbody>\n",
       "    <tr>\n",
       "      <th>4</th>\n",
       "      <td>LabelPowerset(classifier=LinearSVC(), require_...</td>\n",
       "      <td>57.40%</td>\n",
       "    </tr>\n",
       "    <tr>\n",
       "      <th>0</th>\n",
       "      <td>OneVsRestClassifier(estimator=LinearSVC(), n_j...</td>\n",
       "      <td>50.00%</td>\n",
       "    </tr>\n",
       "    <tr>\n",
       "      <th>3</th>\n",
       "      <td>OneVsRestClassifier(estimator=DecisionTreeClas...</td>\n",
       "      <td>34.70%</td>\n",
       "    </tr>\n",
       "    <tr>\n",
       "      <th>1</th>\n",
       "      <td>(DecisionTreeClassifier(max_features='sqrt', r...</td>\n",
       "      <td>32.10%</td>\n",
       "    </tr>\n",
       "    <tr>\n",
       "      <th>2</th>\n",
       "      <td>OneVsRestClassifier(estimator=MultinomialNB())</td>\n",
       "      <td>25.20%</td>\n",
       "    </tr>\n",
       "  </tbody>\n",
       "</table>\n",
       "</div>"
      ],
      "text/plain": [
       "                                Classification Model Accuracy Score\n",
       "4  LabelPowerset(classifier=LinearSVC(), require_...         57.40%\n",
       "0  OneVsRestClassifier(estimator=LinearSVC(), n_j...         50.00%\n",
       "3  OneVsRestClassifier(estimator=DecisionTreeClas...         34.70%\n",
       "1  (DecisionTreeClassifier(max_features='sqrt', r...         32.10%\n",
       "2     OneVsRestClassifier(estimator=MultinomialNB())         25.20%"
      ]
     },
     "execution_count": 55,
     "metadata": {},
     "output_type": "execute_result"
    }
   ],
   "source": [
    "classification_models = [\n",
    "                         OneVsRestClassifier(LinearSVC(), n_jobs=-1),\n",
    "                         RandomForestClassifier(n_jobs=-1),\n",
    "                         OneVsRestClassifier(naive_bayes.MultinomialNB()),\n",
    "                         OneVsRestClassifier(DecisionTreeClassifier()),\n",
    "                         LabelPowerset(LinearSVC())\n",
    "                         ]\n",
    "\n",
    "model_scores = []\n",
    "for model in classification_models:\n",
    "  # Pipeline object is created to perform model training and evaluate the performance of each model.\n",
    "  model_pipeline = Pipeline([('model_training', model)])\n",
    "  model_pipeline.fit(vectors_train, train_y_enc)\n",
    "\n",
    "  model_name = model\n",
    "  if model_name=='SVC' and model.kernel=='rbf': \n",
    "    model_name+='RBF kernel'\n",
    "  \n",
    "  model_scores.append((model_name,(f'{100*model_pipeline.score(vectors_test, test_y_enc):.2f}%')))\n",
    "\n",
    "# Create the dataframe for score of each model\n",
    "df_model_scores = pd.DataFrame(model_scores,columns=['Classification Model','Accuracy Score'])\n",
    "df_model_scores.sort_values(by='Accuracy Score',axis=0,ascending=False)"
   ]
  },
  {
   "cell_type": "code",
   "execution_count": 44,
   "metadata": {},
   "outputs": [
    {
     "name": "stdout",
     "output_type": "stream",
     "text": [
      "accuracy 0.574\n",
      "              precision    recall  f1-score   support\n",
      "\n",
      "           0       0.78      0.84      0.81        56\n",
      "           1       0.83      0.78      0.80       189\n",
      "           2       0.81      0.66      0.73       166\n",
      "           3       0.65      0.82      0.72       299\n",
      "           4       0.72      0.43      0.54       123\n",
      "           5       0.67      0.40      0.50         5\n",
      "           6       0.72      0.43      0.54        77\n",
      "           7       0.81      0.57      0.67        37\n",
      "           8       0.00      0.00      0.00        16\n",
      "           9       0.76      0.70      0.73       122\n",
      "\n",
      "   micro avg       0.73      0.68      0.71      1090\n",
      "   macro avg       0.67      0.56      0.60      1090\n",
      "weighted avg       0.73      0.68      0.70      1090\n",
      " samples avg       0.65      0.61      0.61      1090\n",
      "\n"
     ]
    },
    {
     "name": "stderr",
     "output_type": "stream",
     "text": [
      "/Library/Frameworks/Python.framework/Versions/3.10/lib/python3.10/site-packages/sklearn/metrics/_classification.py:1327: UndefinedMetricWarning: Precision and F-score are ill-defined and being set to 0.0 in samples with no predicted labels. Use `zero_division` parameter to control this behavior.\n",
      "  _warn_prf(average, modifier, msg_start, len(result))\n",
      "/Library/Frameworks/Python.framework/Versions/3.10/lib/python3.10/site-packages/sklearn/metrics/_classification.py:1327: UndefinedMetricWarning: Recall and F-score are ill-defined and being set to 0.0 in samples with no true labels. Use `zero_division` parameter to control this behavior.\n",
      "  _warn_prf(average, modifier, msg_start, len(result))\n"
     ]
    }
   ],
   "source": [
    "classifier = LabelPowerset(LinearSVC())\n",
    "from sklearn.metrics import accuracy_score\n",
    "classifier.fit(vectors_train,train_y_enc)\n",
    "predictions = classifier.predict(vectors_test)\n",
    "print('accuracy %s' % accuracy_score(predictions, test_y_enc))\n",
    "print(classification_report(test_y_enc, predictions))"
   ]
  },
  {
   "cell_type": "code",
   "execution_count": null,
   "metadata": {},
   "outputs": [],
   "source": []
  }
 ],
 "metadata": {
  "kernelspec": {
   "display_name": "Python 3.10.5 64-bit",
   "language": "python",
   "name": "python3"
  },
  "language_info": {
   "codemirror_mode": {
    "name": "ipython",
    "version": 3
   },
   "file_extension": ".py",
   "mimetype": "text/x-python",
   "name": "python",
   "nbconvert_exporter": "python",
   "pygments_lexer": "ipython3",
   "version": "3.10.5"
  },
  "orig_nbformat": 4,
  "vscode": {
   "interpreter": {
    "hash": "aee8b7b246df8f9039afb4144a1f6fd8d2ca17a180786b69acc140d282b71a49"
   }
  }
 },
 "nbformat": 4,
 "nbformat_minor": 2
}
